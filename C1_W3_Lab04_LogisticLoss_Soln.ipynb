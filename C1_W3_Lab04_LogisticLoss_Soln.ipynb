{
  "cells": [
    {
      "cell_type": "markdown",
      "metadata": {
        "id": "view-in-github",
        "colab_type": "text"
      },
      "source": [
        "<a href=\"https://colab.research.google.com/github/MohamedKhalidmk/Supervised_Learning/blob/main/C1_W3_Lab04_LogisticLoss_Soln.ipynb\" target=\"_parent\"><img src=\"https://colab.research.google.com/assets/colab-badge.svg\" alt=\"Open In Colab\"/></a>"
      ]
    },
    {
      "cell_type": "markdown",
      "metadata": {
        "id": "gA1zcEB60qq-"
      },
      "source": [
        "# Optional Lab: Logistic Regression, Logistic Loss\n",
        "\n",
        "In this ungraded lab, you will:\n",
        "- explore the reason the squared error loss is not appropriate for logistic regression\n",
        "- explore the logistic loss function"
      ],
      "id": "gA1zcEB60qq-"
    },
    {
      "cell_type": "code",
      "execution_count": null,
      "metadata": {
        "id": "yjeHQAWY0qrA"
      },
      "outputs": [],
      "source": [
        "import numpy as np\n",
        "%matplotlib widget\n",
        "import matplotlib.pyplot as plt\n",
        "from plt_logistic_loss import  plt_logistic_cost, plt_two_logistic_loss_curves, plt_simple_example\n",
        "from plt_logistic_loss import soup_bowl, plt_logistic_squared_error\n",
        "plt.style.use('./deeplearning.mplstyle')"
      ],
      "id": "yjeHQAWY0qrA"
    },
    {
      "cell_type": "markdown",
      "metadata": {
        "id": "4Ld0rFjC0qrA"
      },
      "source": [
        "## Squared error for logistic regression?\n",
        "<img align=\"left\" src=\"./images/C1_W3_SqErrorVsLogistic.png\"     style=\" width:400px; padding: 10px; \" > Recall for **Linear** Regression we have used the **squared error cost function**:\n",
        "The equation for the squared error cost with one variable is:\n",
        "  $$J(w,b) = \\frac{1}{2m} \\sum\\limits_{i = 0}^{m-1} (f_{w,b}(x^{(i)}) - y^{(i)})^2 \\tag{1}$$\n",
        "\n",
        "where\n",
        "  $$f_{w,b}(x^{(i)}) = wx^{(i)} + b \\tag{2}$$\n"
      ],
      "id": "4Ld0rFjC0qrA"
    },
    {
      "cell_type": "markdown",
      "metadata": {
        "id": "t-IyoJfw0qrB"
      },
      "source": [
        "Recall, the squared error cost had the nice property that following the derivative of the cost leads to the minimum."
      ],
      "id": "t-IyoJfw0qrB"
    },
    {
      "cell_type": "code",
      "execution_count": null,
      "metadata": {
        "id": "EH_8LZNo0qrB",
        "outputId": "e5a4e4ce-9dd0-4a28-dbfb-ec50003ad296",
        "colab": {
          "referenced_widgets": [
            "9fc6c3b6af954f07802ad356d8ea6939"
          ]
        }
      },
      "outputs": [
        {
          "data": {
            "application/vnd.jupyter.widget-view+json": {
              "model_id": "9fc6c3b6af954f07802ad356d8ea6939",
              "version_major": 2,
              "version_minor": 0
            },
            "text/plain": [
              "Canvas(toolbar=Toolbar(toolitems=[('Home', 'Reset original view', 'home', 'home'), ('Back', 'Back to previous …"
            ]
          },
          "metadata": {},
          "output_type": "display_data"
        }
      ],
      "source": [
        "soup_bowl()"
      ],
      "id": "EH_8LZNo0qrB"
    },
    {
      "cell_type": "markdown",
      "metadata": {
        "id": "LYd0VkQ90qrC"
      },
      "source": [
        "This cost function worked well for linear regression, it is natural to consider it for logistic regression as well. However, as the slide above points out, $f_{wb}(x)$ now has a non-linear component, the sigmoid function:   $f_{w,b}(x^{(i)}) = sigmoid(wx^{(i)} + b )$.   Let's try a squared error cost on the example from an earlier lab, now including the sigmoid.\n",
        "\n",
        "Here is our training data:"
      ],
      "id": "LYd0VkQ90qrC"
    },
    {
      "cell_type": "code",
      "execution_count": null,
      "metadata": {
        "id": "mwxfCUYl0qrC",
        "outputId": "e3768a14-d52a-4a3a-b229-7cec6bdeb70a",
        "colab": {
          "referenced_widgets": [
            "65fa3b1c89af478e8905dd945be4c8e0"
          ]
        }
      },
      "outputs": [
        {
          "name": "stdout",
          "output_type": "stream",
          "text": [
            "[0. 1. 2. 3. 4. 5.]\n"
          ]
        },
        {
          "data": {
            "application/vnd.jupyter.widget-view+json": {
              "model_id": "65fa3b1c89af478e8905dd945be4c8e0",
              "version_major": 2,
              "version_minor": 0
            },
            "text/plain": [
              "Canvas(toolbar=Toolbar(toolitems=[('Home', 'Reset original view', 'home', 'home'), ('Back', 'Back to previous …"
            ]
          },
          "metadata": {},
          "output_type": "display_data"
        }
      ],
      "source": [
        "x_train = np.array([0., 1, 2, 3, 4, 5],dtype=np.longdouble)\n",
        "y_train = np.array([0,  0, 0, 1, 1, 1],dtype=np.longdouble)\n",
        "print(x_train)\n",
        "plt_simple_example(x_train, y_train)"
      ],
      "id": "mwxfCUYl0qrC"
    },
    {
      "cell_type": "markdown",
      "metadata": {
        "id": "OuOEA2q40qrC"
      },
      "source": [
        "Now, let's get a surface plot of the cost using a *squared error cost*:\n",
        "  $$J(w,b) = \\frac{1}{2m} \\sum\\limits_{i = 0}^{m-1} (f_{w,b}(x^{(i)}) - y^{(i)})^2 $$\n",
        "\n",
        "where\n",
        "  $$f_{w,b}(x^{(i)}) = sigmoid(wx^{(i)} + b )$$\n"
      ],
      "id": "OuOEA2q40qrC"
    },
    {
      "cell_type": "code",
      "execution_count": null,
      "metadata": {
        "id": "jLtsgBUB0qrC",
        "outputId": "aef1d80c-b049-4930-85f4-cb9fd6dd4953",
        "colab": {
          "referenced_widgets": [
            "d771ccd2fabe4660b1988ef65dd51545"
          ]
        }
      },
      "outputs": [
        {
          "data": {
            "application/vnd.jupyter.widget-view+json": {
              "model_id": "d771ccd2fabe4660b1988ef65dd51545",
              "version_major": 2,
              "version_minor": 0
            },
            "text/plain": [
              "Canvas(toolbar=Toolbar(toolitems=[('Home', 'Reset original view', 'home', 'home'), ('Back', 'Back to previous …"
            ]
          },
          "metadata": {},
          "output_type": "display_data"
        }
      ],
      "source": [
        "plt.close('all')\n",
        "plt_logistic_squared_error(x_train,y_train)\n",
        "plt.show()"
      ],
      "id": "jLtsgBUB0qrC"
    },
    {
      "cell_type": "markdown",
      "metadata": {
        "id": "g2ANvtOt0qrD"
      },
      "source": [
        "While this produces a pretty interesting plot, the surface above not nearly as smooth as the 'soup bowl' from linear regression!    \n",
        "\n",
        "Logistic regression requires a cost function more suitable to its non-linear nature. This starts with a Loss function. This is described below."
      ],
      "id": "g2ANvtOt0qrD"
    },
    {
      "cell_type": "markdown",
      "metadata": {
        "id": "tzgsf6R90qrD"
      },
      "source": [
        "## Logistic Loss Function\n",
        "<img align=\"left\" src=\"./images/C1_W3_LogisticLoss_a.png\"     style=\" width:250px; padding: 2px; \" >\n",
        "<img align=\"left\" src=\"./images/C1_W3_LogisticLoss_b.png\"     style=\" width:250px; padding: 2px; \" >\n",
        "<img align=\"left\" src=\"./images/C1_W3_LogisticLoss_c.png\"     style=\" width:250px; padding: 2px; \" >"
      ],
      "id": "tzgsf6R90qrD"
    },
    {
      "cell_type": "markdown",
      "metadata": {
        "id": "_AsrW-y10qrD"
      },
      "source": [
        "Logistic Regression uses a loss function more suited to the task of categorization where the target is 0 or 1 rather than any number.\n",
        "\n",
        ">**Definition Note:**   In this course, these definitions are used:  \n",
        "**Loss** is a measure of the difference of a single example to its target value while the  \n",
        "**Cost** is a measure of the losses over the training set\n",
        "\n",
        "\n",
        "This is defined:\n",
        "* $loss(f_{\\mathbf{w},b}(\\mathbf{x}^{(i)}), y^{(i)})$ is the cost for a single data point, which is:\n",
        "\n",
        "\\begin{equation}\n",
        "  loss(f_{\\mathbf{w},b}(\\mathbf{x}^{(i)}), y^{(i)}) = \\begin{cases}\n",
        "    - \\log\\left(f_{\\mathbf{w},b}\\left( \\mathbf{x}^{(i)} \\right) \\right) & \\text{if $y^{(i)}=1$}\\\\\n",
        "    - \\log \\left( 1 - f_{\\mathbf{w},b}\\left( \\mathbf{x}^{(i)} \\right) \\right) & \\text{if $y^{(i)}=0$}\n",
        "  \\end{cases}\n",
        "\\end{equation}\n",
        "\n",
        "\n",
        "*  $f_{\\mathbf{w},b}(\\mathbf{x}^{(i)})$ is the model's prediction, while $y^{(i)}$ is the target value.\n",
        "\n",
        "*  $f_{\\mathbf{w},b}(\\mathbf{x}^{(i)}) = g(\\mathbf{w} \\cdot\\mathbf{x}^{(i)}+b)$ where function $g$ is the sigmoid function.\n",
        "* Notational convention: `log` means the natural logarithm.\n",
        "\n",
        "The defining feature of this loss function is the fact that it uses two separate curves. One for the case when the target is zero or ($y=0$) and another for when the target is one ($y=1$). Combined, these curves provide the behavior useful for a loss function, namely, being zero when the prediction matches the target and rapidly increasing in value as the prediction differs from the target. Consider the curves below:"
      ],
      "id": "_AsrW-y10qrD"
    },
    {
      "cell_type": "code",
      "execution_count": null,
      "metadata": {
        "id": "144O7Dt10qrD",
        "outputId": "c0c07684-ea6d-47df-f961-28796f583e42",
        "colab": {
          "referenced_widgets": [
            "29c4498e47a04c1d91ce683a26c53918"
          ]
        }
      },
      "outputs": [
        {
          "data": {
            "application/vnd.jupyter.widget-view+json": {
              "model_id": "29c4498e47a04c1d91ce683a26c53918",
              "version_major": 2,
              "version_minor": 0
            },
            "text/plain": [
              "Canvas(toolbar=Toolbar(toolitems=[('Home', 'Reset original view', 'home', 'home'), ('Back', 'Back to previous …"
            ]
          },
          "metadata": {},
          "output_type": "display_data"
        }
      ],
      "source": [
        "plt_two_logistic_loss_curves()"
      ],
      "id": "144O7Dt10qrD"
    },
    {
      "cell_type": "markdown",
      "metadata": {
        "id": "2NV8aIV60qrE"
      },
      "source": [
        "Combined, the curves are similar to the quadratic curve of the squared error loss. Note, the x-axis is $f_{\\mathbf{w},b}$ which is the output of a sigmoid. The sigmoid output is strictly between 0 and 1."
      ],
      "id": "2NV8aIV60qrE"
    },
    {
      "cell_type": "markdown",
      "metadata": {
        "id": "fi1QBYx80qrE"
      },
      "source": [
        "The loss function above can be rewritten to be easier to implement.\n",
        "    $$loss(f_{\\mathbf{w},b}(\\mathbf{x}^{(i)}), y^{(i)}) = (-y^{(i)} \\log\\left(f_{\\mathbf{w},b}\\left( \\mathbf{x}^{(i)} \\right) \\right) - \\left( 1 - y^{(i)}\\right) \\log \\left( 1 - f_{\\mathbf{w},b}\\left( \\mathbf{x}^{(i)} \\right) \\right)$$\n",
        "  \n",
        "This is a rather formidable-looking equation. It is less daunting when you consider $y^{(i)}$ can have only two values, 0 and 1. One can then consider the equation in two pieces:  \n",
        "when $ y^{(i)} = 0$, the left-hand term is eliminated:\n",
        "$$\n",
        "\\begin{align}\n",
        "loss(f_{\\mathbf{w},b}(\\mathbf{x}^{(i)}), 0) &= (-(0) \\log\\left(f_{\\mathbf{w},b}\\left( \\mathbf{x}^{(i)} \\right) \\right) - \\left( 1 - 0\\right) \\log \\left( 1 - f_{\\mathbf{w},b}\\left( \\mathbf{x}^{(i)} \\right) \\right) \\\\\n",
        "&= -\\log \\left( 1 - f_{\\mathbf{w},b}\\left( \\mathbf{x}^{(i)} \\right) \\right)\n",
        "\\end{align}\n",
        "$$\n",
        "and when $ y^{(i)} = 1$, the right-hand term is eliminated:\n",
        "$$\n",
        "\\begin{align}\n",
        "  loss(f_{\\mathbf{w},b}(\\mathbf{x}^{(i)}), 1) &=  (-(1) \\log\\left(f_{\\mathbf{w},b}\\left( \\mathbf{x}^{(i)} \\right) \\right) - \\left( 1 - 1\\right) \\log \\left( 1 - f_{\\mathbf{w},b}\\left( \\mathbf{x}^{(i)} \\right) \\right)\\\\\n",
        "  &=  -\\log\\left(f_{\\mathbf{w},b}\\left( \\mathbf{x}^{(i)} \\right) \\right)\n",
        "\\end{align}\n",
        "$$\n",
        "\n",
        "OK, with this new logistic loss function, a cost function can be produced that incorporates the loss from all the examples. This will be the topic of the next lab. For now, let's take a look at the cost vs parameters curve for the simple example we considered above:"
      ],
      "id": "fi1QBYx80qrE"
    },
    {
      "cell_type": "code",
      "execution_count": null,
      "metadata": {
        "id": "XMGSe9kD0qrE",
        "outputId": "404d415b-c16c-4d45-c649-6e5d71dabccb",
        "colab": {
          "referenced_widgets": [
            "dfe6216e874b4ff599dab2da11a183a6"
          ]
        }
      },
      "outputs": [
        {
          "data": {
            "application/vnd.jupyter.widget-view+json": {
              "model_id": "dfe6216e874b4ff599dab2da11a183a6",
              "version_major": 2,
              "version_minor": 0
            },
            "text/plain": [
              "Canvas(toolbar=Toolbar(toolitems=[('Home', 'Reset original view', 'home', 'home'), ('Back', 'Back to previous …"
            ]
          },
          "metadata": {},
          "output_type": "display_data"
        }
      ],
      "source": [
        "plt.close('all')\n",
        "cst = plt_logistic_cost(x_train,y_train)"
      ],
      "id": "XMGSe9kD0qrE"
    },
    {
      "cell_type": "markdown",
      "metadata": {
        "id": "UW0G_F2k0qrE"
      },
      "source": [
        "This curve is well suited to gradient descent! It does not have plateaus, local minima, or discontinuities. Note, it is not a bowl as in the case of squared error. Both the cost and the log of the cost are plotted to illuminate the fact that the curve, when the cost is small, has a slope and continues to decline. Reminder: you can rotate the above plots using your mouse."
      ],
      "id": "UW0G_F2k0qrE"
    },
    {
      "cell_type": "markdown",
      "metadata": {
        "id": "2UoaHZDd0qrF"
      },
      "source": [
        "## Congratulations!  \n",
        "You have:\n",
        " - determined a squared error loss function is not suitable for classification tasks\n",
        " - developed and examined the logistic loss function which **is** suitable for classification tasks.\n",
        "\n"
      ],
      "id": "2UoaHZDd0qrF"
    }
  ],
  "metadata": {
    "kernelspec": {
      "display_name": "Python 3",
      "language": "python",
      "name": "python3"
    },
    "language_info": {
      "codemirror_mode": {
        "name": "ipython",
        "version": 3
      },
      "file_extension": ".py",
      "mimetype": "text/x-python",
      "name": "python",
      "nbconvert_exporter": "python",
      "pygments_lexer": "ipython3",
      "version": "3.7.6"
    },
    "toc-showcode": true,
    "colab": {
      "provenance": [],
      "include_colab_link": true
    }
  },
  "nbformat": 4,
  "nbformat_minor": 5
}